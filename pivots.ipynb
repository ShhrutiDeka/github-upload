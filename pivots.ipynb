{
 "cells": [
  {
   "cell_type": "code",
   "execution_count": 49,
   "metadata": {},
   "outputs": [],
   "source": [
    "import pandas as pd\n",
    "import numpy as np"
   ]
  },
  {
   "cell_type": "code",
   "execution_count": 3,
   "metadata": {},
   "outputs": [],
   "source": [
    "globe = pd.read_excel(\"D:/downloads/Globe_reduced.xlsx\", sheet_name ='reduced')"
   ]
  },
  {
   "cell_type": "code",
   "execution_count": 4,
   "metadata": {},
   "outputs": [
    {
     "data": {
      "text/plain": [
       "(21, 107)"
      ]
     },
     "execution_count": 4,
     "metadata": {},
     "output_type": "execute_result"
    }
   ],
   "source": [
    "globe.shape"
   ]
  },
  {
   "cell_type": "code",
   "execution_count": 9,
   "metadata": {
    "collapsed": true
   },
   "outputs": [
    {
     "data": {
      "text/plain": [
       "DatetimeIndex(['2020-08-31 23:48:05', '2020-08-31 23:49:34',\n",
       "               '2020-08-31 23:49:37', '2020-08-31 23:52:04',\n",
       "               '2020-08-31 23:52:17', '2020-08-31 23:52:39',\n",
       "               '2020-08-31 23:53:52', '2020-08-31 23:54:30',\n",
       "               '2020-08-31 23:55:05', '2020-08-31 23:55:18',\n",
       "               '2020-08-31 23:55:53', '2020-08-31 23:56:06',\n",
       "               '2020-08-31 23:56:56', '2020-08-31 23:56:58',\n",
       "               '2020-08-31 23:58:01', '2020-08-31 23:58:18',\n",
       "               '2020-08-31 23:58:54', '2020-08-31 23:59:09',\n",
       "               '2020-08-31 23:59:30', '2020-08-31 23:59:36',\n",
       "               '2020-08-31 23:59:48'],\n",
       "              dtype='datetime64[ns]', name='Created On (Posted On)', freq=None)"
      ]
     },
     "execution_count": 9,
     "metadata": {},
     "output_type": "execute_result"
    }
   ],
   "source": [
    "#pivot x= all columns, y = date\n",
    "table = pd.pivot_table(data=globe,index=['Created On (Posted On)'])"
   ]
  },
  {
   "cell_type": "code",
   "execution_count": 45,
   "metadata": {
    "collapsed": true
   },
   "outputs": [
    {
     "data": {
      "text/plain": [
       "[\"'2020-08-31\",\n",
       " \"'2020-08-31\",\n",
       " \"'2020-08-31\",\n",
       " \"'2020-08-31\",\n",
       " \"'2020-08-31\",\n",
       " \"'2020-08-31\",\n",
       " \"'2020-08-31\",\n",
       " \"'2020-08-31\",\n",
       " \"'2020-08-31\",\n",
       " \"'2020-08-31\",\n",
       " \"'2020-08-31\",\n",
       " \"'2020-08-31\",\n",
       " \"'2020-08-31\",\n",
       " \"'2020-08-31\",\n",
       " \"'2020-08-31\",\n",
       " \"'2020-08-31\",\n",
       " \"'2020-08-31\",\n",
       " \"'2020-08-31\",\n",
       " \"'2020-08-31\",\n",
       " \"'2020-08-31\",\n",
       " \"dtype='date\",\n",
       " 'On',\n",
       " \"On)',\"]"
      ]
     },
     "execution_count": 45,
     "metadata": {},
     "output_type": "execute_result"
    }
   ],
   "source": [
    "k = [i[0:11] for i in str(table.index).split()[2::2]]\n",
    "table.index = k[0:-2]\n",
    "table #pivot with proper date(no time)"
   ]
  },
  {
   "cell_type": "code",
   "execution_count": 114,
   "metadata": {},
   "outputs": [
    {
     "data": {
      "text/html": [
       "<div>\n",
       "<style scoped>\n",
       "    .dataframe tbody tr th:only-of-type {\n",
       "        vertical-align: middle;\n",
       "    }\n",
       "\n",
       "    .dataframe tbody tr th {\n",
       "        vertical-align: top;\n",
       "    }\n",
       "\n",
       "    .dataframe thead th {\n",
       "        text-align: right;\n",
       "    }\n",
       "</style>\n",
       "<table border=\"1\" class=\"dataframe\">\n",
       "  <thead>\n",
       "    <tr style=\"text-align: right;\">\n",
       "      <th></th>\n",
       "      <th>messageID</th>\n",
       "    </tr>\n",
       "  </thead>\n",
       "  <tbody>\n",
       "    <tr>\n",
       "      <th>2020-08-31</th>\n",
       "      <td>21</td>\n",
       "    </tr>\n",
       "  </tbody>\n",
       "</table>\n",
       "</div>"
      ],
      "text/plain": [
       "            messageID\n",
       "2020-08-31         21"
      ]
     },
     "execution_count": 114,
     "metadata": {},
     "output_type": "execute_result"
    }
   ],
   "source": [
    "#pivot x = message count, y=date\n",
    "\n",
    "table2 = globe.pivot_table(values=['messageID'], index=[i[0:11] for i in str(globe['Created On (Posted On)']).split()[1:-7:3]], \n",
    "                         aggfunc=lambda x: len(x.unique()))\n",
    "table2"
   ]
  },
  {
   "cell_type": "code",
   "execution_count": null,
   "metadata": {},
   "outputs": [],
   "source": [
    "---------xxxxxxxxxxxxxxxxxxxxxxxxxxxxxxxxxxxxxxxxxxxxxxxxxxxxxxxxxxxxxxxxxxxxxxxxxxxxxxxxxxxxxxxxxxxxxxxxxxxx--------------"
   ]
  },
  {
   "cell_type": "code",
   "execution_count": null,
   "metadata": {},
   "outputs": [],
   "source": [
    "#Pivot with filtering\n",
    "filter = ['']\n",
    "\n"
   ]
  }
 ],
 "metadata": {
  "kernelspec": {
   "display_name": "Python 3",
   "language": "python",
   "name": "python3"
  },
  "language_info": {
   "codemirror_mode": {
    "name": "ipython",
    "version": 3
   },
   "file_extension": ".py",
   "mimetype": "text/x-python",
   "name": "python",
   "nbconvert_exporter": "python",
   "pygments_lexer": "ipython3",
   "version": "3.8.3"
  }
 },
 "nbformat": 4,
 "nbformat_minor": 4
}
